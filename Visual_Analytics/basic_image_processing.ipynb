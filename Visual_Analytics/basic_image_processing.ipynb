{
 "cells": [
  {
   "cell_type": "markdown",
   "metadata": {},
   "source": [
    "__Packages__"
   ]
  },
  {
   "cell_type": "code",
   "execution_count": 80,
   "metadata": {},
   "outputs": [
    {
     "ename": "SyntaxError",
     "evalue": "invalid syntax (<ipython-input-80-e1d727228ed9>, line 6)",
     "output_type": "error",
     "traceback": [
      "\u001b[0;36m  File \u001b[0;32m\"<ipython-input-80-e1d727228ed9>\"\u001b[0;36m, line \u001b[0;32m6\u001b[0m\n\u001b[0;31m    pip install <glob>\u001b[0m\n\u001b[0m              ^\u001b[0m\n\u001b[0;31mSyntaxError\u001b[0m\u001b[0;31m:\u001b[0m invalid syntax\n"
     ]
    }
   ],
   "source": [
    "import os\n",
    "import numpy as np \n",
    "import cv2 \n",
    "from pathlib import Path\n",
    "import glob "
   ]
  },
  {
   "cell_type": "markdown",
   "metadata": {},
   "source": [
    "__Finding dimension of and splitting images into 4 parts__"
   ]
  },
  {
   "cell_type": "code",
   "execution_count": 65,
   "metadata": {},
   "outputs": [],
   "source": [
    "data_path = os.path.join(\"..\", \"data\", \"Covid19-dataset\", \"test\", \"Viral_pneumonia\")# a file where my images are stored\n",
    "\n",
    "original_dimensions = [] # a container for dimensions of original images\n",
    "\n",
    "for filename in Path(data_path).glob(\"*.jpeg\"):\n",
    "    image = cv2.imread(str(filename)) # reading image\n",
    "    \n",
    "    # images info\n",
    "    width, height, n_channels = image.shape # saving image dimensions\n",
    "    original_dimensions.append(image.shape) # appending them to the container\n",
    "    filename = str(filename).split(\"/\")[5] # saving ONLY image filename without the full path with indexing and Regex\n",
    "    \n",
    "    # images slicing\n",
    "    upper_left = image[:width//2, :height//2] # // refers to integer - whole numbers, : refers to either start (when before the variable) or end\n",
    "    sliced_image_path = os.path.join(\"..\", \"data\", \"Covid19-dataset\", \"test\", \"Viral_pneumonia_split\", f\"upper_left_{filename}\")\n",
    "    cv2.imwrite(sliced_image_path, upper_left) # \n",
    "    \n",
    "    upper_right = image[:width//2, height//2:] # \n",
    "    sliced_image_path = os.path.join(\"..\", \"data\", \"Covid19-dataset\", \"test\", \"Viral_pneumonia_split\", f\"upper_right_{filename}\")\n",
    "    cv2.imwrite(sliced_image_path, upper_right)\n",
    "    \n",
    "    bottom_left = image[width//2:,:height//2] # \n",
    "    sliced_image_path = os.path.join(\"..\", \"data\", \"Covid19-dataset\", \"test\", \"Viral_pneumonia_split\", f\"bottom_left_{filename}\")\n",
    "    cv2.imwrite(sliced_image_path, bottom_left)\n",
    "    \n",
    "    bottom_right = image[width//2:, height//2:] # \n",
    "    sliced_image_path = os.path.join(\"..\", \"data\", \"Covid19-dataset\", \"test\", \"Viral_pneumonia_split\", f\"bottom_right_{filename}\")\n",
    "    cv2.imwrite(sliced_image_path, bottom_right)\n"
   ]
  },
  {
   "cell_type": "markdown",
   "metadata": {},
   "source": [
    "__Saving dimensions of split images__"
   ]
  },
  {
   "cell_type": "code",
   "execution_count": 77,
   "metadata": {},
   "outputs": [
    {
     "data": {
      "text/plain": [
       "[[(388, 580, 3), 'upper_right_0110.jpeg'],\n",
       " [(428, 628, 3), 'bottom_left_0119.jpeg'],\n",
       " [(360, 705, 3), 'bottom_right_0111.jpeg'],\n",
       " [(388, 580, 3), 'upper_left_0110.jpeg'],\n",
       " [(504, 612, 3), 'bottom_left_0108.jpeg'],\n",
       " [(360, 705, 3), 'upper_right_0111.jpeg'],\n",
       " [(408, 624, 3), 'upper_right_0109.jpeg'],\n",
       " [(428, 628, 3), 'bottom_right_0119.jpeg'],\n",
       " [(484, 652, 3), 'upper_left_0101.jpeg'],\n",
       " [(320, 604, 3), 'upper_right_0112.jpeg'],\n",
       " [(437, 603, 3), 'upper_right_0103.jpeg'],\n",
       " [(488, 612, 3), 'bottom_left_0106.jpeg'],\n",
       " [(430, 605, 3), 'bottom_right_0115.jpeg'],\n",
       " [(444, 648, 3), 'bottom_left_0113.jpeg'],\n",
       " [(407, 636, 3), 'bottom_right_0107.jpeg'],\n",
       " [(436, 640, 3), 'bottom_right_0118.jpeg'],\n",
       " [(428, 612, 3), 'upper_right_0120.jpeg'],\n",
       " [(496, 596, 3), 'bottom_left_0104.jpeg'],\n",
       " [(496, 596, 3), 'bottom_right_0104.jpeg'],\n",
       " [(320, 604, 3), 'upper_left_0112.jpeg'],\n",
       " [(428, 612, 3), 'bottom_left_0120.jpeg'],\n",
       " [(484, 652, 3), 'upper_right_0101.jpeg'],\n",
       " [(416, 576, 3), 'upper_left_0102.jpeg'],\n",
       " [(406, 636, 3), 'upper_right_0107.jpeg'],\n",
       " [(388, 580, 3), 'bottom_right_0110.jpeg'],\n",
       " [(406, 636, 3), 'upper_left_0107.jpeg'],\n",
       " [(496, 596, 3), 'upper_right_0104.jpeg'],\n",
       " [(320, 604, 3), 'bottom_left_0112.jpeg'],\n",
       " [(472, 600, 3), 'upper_right_0116.jpeg'],\n",
       " [(360, 705, 3), 'bottom_left_0111.jpeg'],\n",
       " [(416, 576, 3), 'bottom_right_0102.jpeg'],\n",
       " [(496, 596, 3), 'upper_left_0104.jpeg'],\n",
       " [(408, 624, 3), 'bottom_left_0109.jpeg'],\n",
       " [(444, 648, 3), 'upper_left_0113.jpeg'],\n",
       " [(429, 605, 3), 'upper_left_0115.jpeg'],\n",
       " [(435, 603, 3), 'upper_right_0117.jpeg'],\n",
       " [(380, 640, 3), 'upper_left_0105.jpeg'],\n",
       " [(436, 640, 3), 'bottom_left_0118.jpeg'],\n",
       " [(439, 611, 3), 'upper_left_0114.jpeg'],\n",
       " [(428, 628, 3), 'upper_right_0119.jpeg'],\n",
       " [(439, 611, 3), 'upper_right_0114.jpeg'],\n",
       " [(488, 612, 3), 'upper_right_0106.jpeg'],\n",
       " [(504, 612, 3), 'upper_left_0108.jpeg'],\n",
       " [(438, 603, 3), 'bottom_left_0103.jpeg'],\n",
       " [(360, 705, 3), 'upper_left_0111.jpeg'],\n",
       " [(380, 640, 3), 'bottom_right_0105.jpeg'],\n",
       " [(484, 652, 3), 'bottom_right_0101.jpeg'],\n",
       " [(428, 612, 3), 'bottom_right_0120.jpeg'],\n",
       " [(430, 605, 3), 'bottom_left_0115.jpeg'],\n",
       " [(435, 603, 3), 'upper_left_0117.jpeg'],\n",
       " [(436, 603, 3), 'bottom_right_0117.jpeg'],\n",
       " [(428, 628, 3), 'upper_left_0119.jpeg'],\n",
       " [(416, 576, 3), 'upper_right_0102.jpeg'],\n",
       " [(380, 640, 3), 'bottom_left_0105.jpeg'],\n",
       " [(488, 612, 3), 'upper_left_0106.jpeg'],\n",
       " [(439, 611, 3), 'bottom_left_0114.jpeg'],\n",
       " [(472, 600, 3), 'upper_left_0116.jpeg'],\n",
       " [(439, 611, 3), 'bottom_right_0114.jpeg'],\n",
       " [(504, 612, 3), 'bottom_right_0108.jpeg'],\n",
       " [(437, 603, 3), 'upper_left_0103.jpeg'],\n",
       " [(320, 604, 3), 'bottom_right_0112.jpeg'],\n",
       " [(428, 612, 3), 'upper_left_0120.jpeg'],\n",
       " [(504, 612, 3), 'upper_right_0108.jpeg'],\n",
       " [(388, 580, 3), 'bottom_left_0110.jpeg'],\n",
       " [(438, 603, 3), 'bottom_right_0103.jpeg'],\n",
       " [(436, 640, 3), 'upper_right_0118.jpeg'],\n",
       " [(484, 652, 3), 'bottom_left_0101.jpeg'],\n",
       " [(380, 640, 3), 'upper_right_0105.jpeg'],\n",
       " [(436, 603, 3), 'bottom_left_0117.jpeg'],\n",
       " [(444, 648, 3), 'upper_right_0113.jpeg'],\n",
       " [(408, 624, 3), 'upper_left_0109.jpeg'],\n",
       " [(416, 576, 3), 'bottom_left_0102.jpeg'],\n",
       " [(408, 624, 3), 'bottom_right_0109.jpeg'],\n",
       " [(472, 600, 3), 'bottom_left_0116.jpeg'],\n",
       " [(488, 612, 3), 'bottom_right_0106.jpeg'],\n",
       " [(407, 636, 3), 'bottom_left_0107.jpeg'],\n",
       " [(444, 648, 3), 'bottom_right_0113.jpeg'],\n",
       " [(429, 605, 3), 'upper_right_0115.jpeg'],\n",
       " [(472, 600, 3), 'bottom_right_0116.jpeg'],\n",
       " [(436, 640, 3), 'upper_left_0118.jpeg']]"
      ]
     },
     "execution_count": 77,
     "metadata": {},
     "output_type": "execute_result"
    }
   ],
   "source": [
    "data_path = os.path.join(\"..\", \"data\", \"Covid19-dataset\", \"test\", \"Viral_pneumonia_split\")\n",
    "\n",
    "split_dimensions = [] # dimensions of original images\n",
    "\n",
    "\n",
    "for filename in Path(data_path).glob(\"*.jpeg\"):\n",
    "    image = cv2.imread(str(filename)) # reading image\n",
    "    \n",
    "    width, height, n_channels = image.shape # saving image dimensions\n",
    "    filename = str(filename).split(\"/\")[5] # saving image filename\n",
    "    \n",
    "    split_dimensions.append([image.shape, filename])\n",
    "    \n",
    "split_dimensions"
   ]
  }
 ],
 "metadata": {
  "kernelspec": {
   "display_name": "Python 3",
   "language": "python",
   "name": "python3"
  },
  "language_info": {
   "codemirror_mode": {
    "name": "ipython",
    "version": 3
   },
   "file_extension": ".py",
   "mimetype": "text/x-python",
   "name": "python",
   "nbconvert_exporter": "python",
   "pygments_lexer": "ipython3",
   "version": "3.6.9"
  }
 },
 "nbformat": 4,
 "nbformat_minor": 4
}
